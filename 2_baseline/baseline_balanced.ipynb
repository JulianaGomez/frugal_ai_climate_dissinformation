{
 "cells": [
  {
   "cell_type": "markdown",
   "metadata": {
    "id": "rxtjivf0zWZV"
   },
   "source": [
    "# Goal: run a random baseline on our model, and use CodeCarbon to measure emissions"
   ]
  },
  {
   "cell_type": "markdown",
   "metadata": {},
   "source": [
    "Notebook by: [Juliana Gómez Consuegra](https://www.linkedin.com/in/julianagomezconsuegra/)"
   ]
  },
  {
   "cell_type": "code",
   "execution_count": null,
   "metadata": {
    "id": "JGVSACSD0VC8"
   },
   "outputs": [],
   "source": [
    "!pip install -q codecarbon"
   ]
  },
  {
   "cell_type": "code",
   "execution_count": null,
   "metadata": {
    "colab": {
     "base_uri": "https://localhost:8080/"
    },
    "executionInfo": {
     "elapsed": 5903,
     "status": "ok",
     "timestamp": 1737850766571,
     "user": {
      "displayName": "Juliana Gomez Consuegra",
      "userId": "13034524227628268551"
     },
     "user_tz": 300
    },
    "id": "EpW5-TFjzioL",
    "outputId": "3d41e131-360f-4152-af0f-2fcc8cd5ba18"
   },
   "outputs": [
    {
     "name": "stdout",
     "output_type": "stream",
     "text": [
      "Drive already mounted at /content/drive; to attempt to forcibly remount, call drive.mount(\"/content/drive\", force_remount=True).\n"
     ]
    }
   ],
   "source": [
    "#standard libraries\n",
    "import numpy as np\n",
    "import pandas as pd\n",
    "import matplotlib.pyplot as plt\n",
    "import seaborn as sns\n",
    "import os\n",
    "\n",
    "from codecarbon import EmissionsTracker\n",
    "import random\n",
    "from sklearn.metrics import accuracy_score\n",
    "from datetime import datetime\n",
    "\n",
    "from google.colab import drive\n",
    "drive.mount('/content/drive')"
   ]
  },
  {
   "cell_type": "markdown",
   "metadata": {
    "id": "n3-AxfEH-QL8"
   },
   "source": [
    "# Load data"
   ]
  },
  {
   "cell_type": "code",
   "execution_count": null,
   "metadata": {
    "id": "V3nVjNLtzyMv"
   },
   "outputs": [],
   "source": [
    "folder = '/content/drive/MyDrive/frugal_ai/Juliana/'\n",
    "\n",
    "# load X_train, X_test, y_train, y_test from folder\n",
    "X_train = pd.read_csv(folder + 'X_train.csv')\n",
    "X_test = pd.read_csv(folder + 'X_test.csv')\n",
    "y_train = pd.read_csv(folder + 'y_train.csv')\n",
    "y_test = pd.read_csv(folder + 'y_test.csv')"
   ]
  },
  {
   "cell_type": "markdown",
   "metadata": {
    "id": "lerisZ280Zq_"
   },
   "source": [
    "# Measure"
   ]
  },
  {
   "cell_type": "code",
   "execution_count": null,
   "metadata": {
    "id": "p7sMMFBg-R2B"
   },
   "outputs": [],
   "source": [
    "def evaluate_text(X_test, y_test):\n",
    "    # Initialize CodeCarbon tracker\n",
    "    tracker = EmissionsTracker(project_name=\"text_classification_baseline\")\n",
    "\n",
    "    # Define the LABEL_MAPPING dictionary\n",
    "    LABEL_MAPPING = {\n",
    "        \"0_not_relevant\": 0,\n",
    "        \"1_not_happening\": 1,\n",
    "        \"2_not_human\": 2,\n",
    "        \"3_not_bad\": 3,\n",
    "        \"4_solutions_harmful_unnecessary\": 4,\n",
    "        \"5_science_unreliable\": 5,\n",
    "        \"6_proponents_biased\": 6,\n",
    "        \"7_fossil_fuels_needed\": 7\n",
    "    }\n",
    "\n",
    "    # Apply LABEL_MAPPING to y_test\n",
    "    y_test[\"label\"] = y_test[\"label\"].map(LABEL_MAPPING)\n",
    "\n",
    "    # Start tracking emissions\n",
    "    tracker.start()\n",
    "\n",
    "    # Make random predictions (placeholder for actual model inference)\n",
    "    true_labels = y_test[\"label\"].values\n",
    "    predictions = [random.randint(0, 7) for _ in range(len(true_labels))]\n",
    "\n",
    "    # Stop tracking emissions\n",
    "    emissions = tracker.stop()\n",
    "\n",
    "    # Calculate accuracy\n",
    "    accuracy = accuracy_score(true_labels, predictions)\n",
    "\n",
    "    # Prepare results dictionary\n",
    "    results = {\n",
    "        \"accuracy\": float(accuracy),\n",
    "        \"energy_consumed_wh\": emissions * 1000 if isinstance(emissions, float) else emissions.energy_consumed * 1000,\n",
    "        \"emissions_gco2eq\": emissions * 1000 if isinstance(emissions, float) else emissions.emissions * 1000,\n",
    "        \"emissions_data\": emissions,\n",
    "        \"dataset_config\": {\n",
    "            \"test_size\": len(X_test)\n",
    "        }\n",
    "    }\n",
    "\n",
    "    return results"
   ]
  },
  {
   "cell_type": "code",
   "execution_count": null,
   "metadata": {
    "colab": {
     "base_uri": "https://localhost:8080/"
    },
    "executionInfo": {
     "elapsed": 1742,
     "status": "ok",
     "timestamp": 1737850954954,
     "user": {
      "displayName": "Juliana Gomez Consuegra",
      "userId": "13034524227628268551"
     },
     "user_tz": 300
    },
    "id": "CEvAwF8Q-Ywh",
    "outputId": "cf0289d3-b4b1-451b-efcf-b2eda7d0c784"
   },
   "outputs": [
    {
     "name": "stderr",
     "output_type": "stream",
     "text": [
      "[codecarbon INFO @ 00:22:33] [setup] RAM Tracking...\n",
      "[codecarbon INFO @ 00:22:33] [setup] CPU Tracking...\n",
      "[codecarbon WARNING @ 00:22:33] No CPU tracking mode found. Falling back on CPU constant mode. \n",
      " Linux OS detected: Please ensure RAPL files exist at \\sys\\class\\powercap\\intel-rapl to measure CPU\n",
      "\n",
      "[codecarbon WARNING @ 00:22:34] We saw that you have a Intel(R) Xeon(R) CPU @ 2.20GHz but we don't know it. Please contact us.\n",
      "[codecarbon INFO @ 00:22:34] CPU Model on constant consumption mode: Intel(R) Xeon(R) CPU @ 2.20GHz\n",
      "[codecarbon INFO @ 00:22:34] [setup] GPU Tracking...\n",
      "[codecarbon INFO @ 00:22:34] No GPU found.\n",
      "[codecarbon INFO @ 00:22:34] >>> Tracker's metadata:\n",
      "[codecarbon INFO @ 00:22:34]   Platform system: Linux-6.1.85+-x86_64-with-glibc2.35\n",
      "[codecarbon INFO @ 00:22:34]   Python version: 3.11.11\n",
      "[codecarbon INFO @ 00:22:34]   CodeCarbon version: 2.8.3\n",
      "[codecarbon INFO @ 00:22:34]   Available RAM : 12.675 GB\n",
      "[codecarbon INFO @ 00:22:34]   CPU count: 2\n",
      "[codecarbon INFO @ 00:22:34]   CPU model: Intel(R) Xeon(R) CPU @ 2.20GHz\n",
      "[codecarbon INFO @ 00:22:34]   GPU count: None\n",
      "[codecarbon INFO @ 00:22:34]   GPU model: None\n",
      "[codecarbon INFO @ 00:22:34] Saving emissions data to file /content/emissions.csv\n",
      "[codecarbon INFO @ 00:22:34] Energy consumed for RAM : 0.000000 kWh. RAM Power : 4.7530388832092285 W\n",
      "[codecarbon INFO @ 00:22:34] Energy consumed for all CPUs : 0.000000 kWh. Total CPU Power : 42.5 W\n",
      "[codecarbon INFO @ 00:22:34] 0.000000 kWh of electricity used since the beginning.\n",
      "/usr/local/lib/python3.11/dist-packages/codecarbon/output_methods/file.py:52: FutureWarning: The behavior of DataFrame concatenation with empty or all-NA entries is deprecated. In a future version, this will no longer exclude empty or all-NA columns when determining the result dtypes. To retain the old behavior, exclude the relevant entries before the concat operation.\n",
      "  df = pd.concat([df, pd.DataFrame.from_records([dict(total.values)])])\n"
     ]
    },
    {
     "name": "stdout",
     "output_type": "stream",
     "text": [
      "Accuracy: 0.12380952380952381\n",
      "Energy consumed (Wh): 2.228188383225942e-05\n",
      "Emissions (gCO2eq): 2.228188383225942e-05\n"
     ]
    }
   ],
   "source": [
    "results = evaluate_text(X_test, y_test)\n",
    "\n",
    "\n",
    "print(f\"Accuracy: {results['accuracy']}\")\n",
    "print(f\"Energy consumed (Wh): {results['energy_consumed_wh']}\")\n",
    "print(f\"Emissions (gCO2eq): {results['emissions_gco2eq']}\")"
   ]
  }
 ],
 "metadata": {
  "colab": {
   "provenance": []
  },
  "kernelspec": {
   "display_name": "Python 3",
   "name": "python3"
  },
  "language_info": {
   "name": "python"
  }
 },
 "nbformat": 4,
 "nbformat_minor": 0
}
