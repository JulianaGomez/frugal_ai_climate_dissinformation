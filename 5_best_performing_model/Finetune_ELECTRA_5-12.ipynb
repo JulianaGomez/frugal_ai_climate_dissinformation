{
 "cells": [
  {
   "cell_type": "markdown",
   "metadata": {},
   "source": [
    "Notebook by: Eunice Ngai "
   ]
  },
  {
   "cell_type": "code",
   "execution_count": null,
   "metadata": {
    "colab": {
     "base_uri": "https://localhost:8080/"
    },
    "executionInfo": {
     "elapsed": 10778,
     "status": "ok",
     "timestamp": 1738298322756,
     "user": {
      "displayName": "Eunice Ngai",
      "userId": "01703818582658263674"
     },
     "user_tz": -480
    },
    "id": "dbB9w8zXu7i_",
    "outputId": "0a58eab4-e651-432b-9f43-f8cf01ff3c7c"
   },
   "outputs": [
    {
     "name": "stdout",
     "output_type": "stream",
     "text": [
      "\u001b[?25l   \u001b[90m━━━━━━━━━━━━━━━━━━━━━━━━━━━━━━━━━━━━━━━━\u001b[0m \u001b[32m0.0/480.6 kB\u001b[0m \u001b[31m?\u001b[0m eta \u001b[36m-:--:--\u001b[0m\r\u001b[2K   \u001b[90m━━━━━━━━━━━━━━━━━━━━━━━━━━━━━━━━━━━━━━━━\u001b[0m \u001b[32m480.6/480.6 kB\u001b[0m \u001b[31m23.9 MB/s\u001b[0m eta \u001b[36m0:00:00\u001b[0m\n",
      "\u001b[?25h\u001b[?25l   \u001b[90m━━━━━━━━━━━━━━━━━━━━━━━━━━━━━━━━━━━━━━━━\u001b[0m \u001b[32m0.0/116.3 kB\u001b[0m \u001b[31m?\u001b[0m eta \u001b[36m-:--:--\u001b[0m\r\u001b[2K   \u001b[90m━━━━━━━━━━━━━━━━━━━━━━━━━━━━━━━━━━━━━━━━\u001b[0m \u001b[32m116.3/116.3 kB\u001b[0m \u001b[31m7.8 MB/s\u001b[0m eta \u001b[36m0:00:00\u001b[0m\n",
      "\u001b[?25h\u001b[?25l   \u001b[90m━━━━━━━━━━━━━━━━━━━━━━━━━━━━━━━━━━━━━━━━\u001b[0m \u001b[32m0.0/179.3 kB\u001b[0m \u001b[31m?\u001b[0m eta \u001b[36m-:--:--\u001b[0m\r\u001b[2K   \u001b[90m━━━━━━━━━━━━━━━━━━━━━━━━━━━━━━━━━━━━━━━━\u001b[0m \u001b[32m179.3/179.3 kB\u001b[0m \u001b[31m8.3 MB/s\u001b[0m eta \u001b[36m0:00:00\u001b[0m\n",
      "\u001b[?25h\u001b[?25l   \u001b[90m━━━━━━━━━━━━━━━━━━━━━━━━━━━━━━━━━━━━━━━━\u001b[0m \u001b[32m0.0/143.5 kB\u001b[0m \u001b[31m?\u001b[0m eta \u001b[36m-:--:--\u001b[0m\r\u001b[2K   \u001b[90m━━━━━━━━━━━━━━━━━━━━━━━━━━━━━━━━━━━━━━━━\u001b[0m \u001b[32m143.5/143.5 kB\u001b[0m \u001b[31m11.8 MB/s\u001b[0m eta \u001b[36m0:00:00\u001b[0m\n",
      "\u001b[?25h\u001b[?25l   \u001b[90m━━━━━━━━━━━━━━━━━━━━━━━━━━━━━━━━━━━━━━━━\u001b[0m \u001b[32m0.0/194.8 kB\u001b[0m \u001b[31m?\u001b[0m eta \u001b[36m-:--:--\u001b[0m\r\u001b[2K   \u001b[90m━━━━━━━━━━━━━━━━━━━━━━━━━━━━━━━━━━━━━━━━\u001b[0m \u001b[32m194.8/194.8 kB\u001b[0m \u001b[31m17.1 MB/s\u001b[0m eta \u001b[36m0:00:00\u001b[0m\n",
      "\u001b[?25h\u001b[31mERROR: pip's dependency resolver does not currently take into account all the packages that are installed. This behaviour is the source of the following dependency conflicts.\n",
      "gcsfs 2024.10.0 requires fsspec==2024.10.0, but you have fsspec 2024.9.0 which is incompatible.\n",
      "torch 2.5.1+cu124 requires nvidia-cublas-cu12==12.4.5.8; platform_system == \"Linux\" and platform_machine == \"x86_64\", but you have nvidia-cublas-cu12 12.5.3.2 which is incompatible.\n",
      "torch 2.5.1+cu124 requires nvidia-cuda-cupti-cu12==12.4.127; platform_system == \"Linux\" and platform_machine == \"x86_64\", but you have nvidia-cuda-cupti-cu12 12.5.82 which is incompatible.\n",
      "torch 2.5.1+cu124 requires nvidia-cuda-nvrtc-cu12==12.4.127; platform_system == \"Linux\" and platform_machine == \"x86_64\", but you have nvidia-cuda-nvrtc-cu12 12.5.82 which is incompatible.\n",
      "torch 2.5.1+cu124 requires nvidia-cuda-runtime-cu12==12.4.127; platform_system == \"Linux\" and platform_machine == \"x86_64\", but you have nvidia-cuda-runtime-cu12 12.5.82 which is incompatible.\n",
      "torch 2.5.1+cu124 requires nvidia-cudnn-cu12==9.1.0.70; platform_system == \"Linux\" and platform_machine == \"x86_64\", but you have nvidia-cudnn-cu12 9.3.0.75 which is incompatible.\n",
      "torch 2.5.1+cu124 requires nvidia-cufft-cu12==11.2.1.3; platform_system == \"Linux\" and platform_machine == \"x86_64\", but you have nvidia-cufft-cu12 11.2.3.61 which is incompatible.\n",
      "torch 2.5.1+cu124 requires nvidia-curand-cu12==10.3.5.147; platform_system == \"Linux\" and platform_machine == \"x86_64\", but you have nvidia-curand-cu12 10.3.6.82 which is incompatible.\n",
      "torch 2.5.1+cu124 requires nvidia-cusolver-cu12==11.6.1.9; platform_system == \"Linux\" and platform_machine == \"x86_64\", but you have nvidia-cusolver-cu12 11.6.3.83 which is incompatible.\n",
      "torch 2.5.1+cu124 requires nvidia-cusparse-cu12==12.3.1.170; platform_system == \"Linux\" and platform_machine == \"x86_64\", but you have nvidia-cusparse-cu12 12.5.1.3 which is incompatible.\n",
      "torch 2.5.1+cu124 requires nvidia-nvjitlink-cu12==12.4.127; platform_system == \"Linux\" and platform_machine == \"x86_64\", but you have nvidia-nvjitlink-cu12 12.5.82 which is incompatible.\u001b[0m\u001b[31m\n",
      "\u001b[0m"
     ]
    }
   ],
   "source": [
    "# !pip install --upgrade tensorflow\n",
    "# !pip install tensorflow==2.15  --quiet\n",
    "!pip install tensorflow  --quiet\n",
    "!pip install -U tf_keras  --quiet # Keras 2\n",
    "import os\n",
    "os.environ[\"TF_USE_LEGACY_KERAS\"] = \"1\"\n",
    "\n",
    "!pip install transformers datasets tensorflow  --quiet"
   ]
  },
  {
   "cell_type": "code",
   "execution_count": null,
   "metadata": {
    "id": "KpRWj8890NJr"
   },
   "outputs": [],
   "source": [
    "# !pip install --upgrade transformers"
   ]
  },
  {
   "cell_type": "code",
   "execution_count": null,
   "metadata": {
    "id": "InKpK4As0c6s"
   },
   "outputs": [],
   "source": [
    "# !pip show tensorflow\n",
    "# !pip show Keras"
   ]
  },
  {
   "cell_type": "code",
   "execution_count": null,
   "metadata": {
    "id": "1aJy9YmnkHav"
   },
   "outputs": [],
   "source": [
    "import tensorflow as tf\n",
    "from transformers import TFElectraForSequenceClassification, ElectraTokenizer\n",
    "from google.colab import drive\n",
    "\n",
    "import pandas as pd\n",
    "import numpy as np\n",
    "import json\n",
    "\n",
    "import seaborn as sns\n",
    "from sklearn.metrics import ConfusionMatrixDisplay\n",
    "from sklearn.metrics import confusion_matrix\n",
    "from sklearn.metrics import classification_report\n",
    "import matplotlib.pyplot as plt"
   ]
  },
  {
   "cell_type": "code",
   "execution_count": null,
   "metadata": {
    "colab": {
     "base_uri": "https://localhost:8080/"
    },
    "executionInfo": {
     "elapsed": 27898,
     "status": "ok",
     "timestamp": 1738298461963,
     "user": {
      "displayName": "Eunice Ngai",
      "userId": "01703818582658263674"
     },
     "user_tz": -480
    },
    "id": "KXZPmWxofpck",
    "outputId": "4a6e90ad-4b5f-42a8-bdfa-3fce3a6e1f33"
   },
   "outputs": [
    {
     "name": "stdout",
     "output_type": "stream",
     "text": [
      "Mounted at /content/drive\n"
     ]
    }
   ],
   "source": [
    "drive.mount('/content/drive')"
   ]
  },
  {
   "cell_type": "markdown",
   "metadata": {
    "id": "YotljHGsk8RJ"
   },
   "source": [
    "# Model Finetuneing"
   ]
  },
  {
   "cell_type": "code",
   "execution_count": null,
   "metadata": {
    "id": "sMNLBwW5t1NJ"
   },
   "outputs": [],
   "source": [
    "# Checkpoints and final model\n",
    "checkpoint_dir = '/content/drive/MyDrive/MIDS/frugal_ai/Eunice/checkpoints'\n",
    "final_model_path = '/content/drive/MyDrive/MIDS/frugal_ai/Eunice/electra-base-ft5to12-final'"
   ]
  },
  {
   "cell_type": "code",
   "execution_count": null,
   "metadata": {
    "id": "ClmTrol_jziJ"
   },
   "outputs": [],
   "source": [
    "df = pd.read_csv('/content/drive/MyDrive/MIDS/frugal_ai/Juliana/df_limited.csv')\n",
    "\n",
    "df_train = df[df['set'] == 'train']\n",
    "df_test = df[df['set'] == 'test']"
   ]
  },
  {
   "cell_type": "code",
   "execution_count": null,
   "metadata": {
    "id": "KU5hisuXiQQ-"
   },
   "outputs": [],
   "source": [
    "df_train = df_train.sample(frac=1, random_state=266, ignore_index=True)\n",
    "df_test = df_test.sample(frac=1, random_state=266, ignore_index=True)"
   ]
  },
  {
   "cell_type": "code",
   "execution_count": null,
   "metadata": {
    "id": "1nhUKF4smmWo"
   },
   "outputs": [],
   "source": [
    "train_X = df_train['quote'].tolist()\n",
    "train_y = df_train['label'].tolist()\n",
    "\n",
    "test_X = df_test['quote'].tolist()\n",
    "test_y = df_test['label'].tolist()"
   ]
  },
  {
   "cell_type": "code",
   "execution_count": null,
   "metadata": {
    "id": "ktIsK3Utx2sA"
   },
   "outputs": [],
   "source": [
    "# Define the label mapping\n",
    "LABEL_MAPPING = {\n",
    "    \"0_not_relevant\": 0,\n",
    "    \"1_not_happening\": 1,\n",
    "    \"2_not_human\": 2,\n",
    "    \"3_not_bad\": 3,\n",
    "    \"4_solutions_harmful_unnecessary\": 4,\n",
    "    \"5_science_unreliable\": 5,\n",
    "    \"6_proponents_biased\": 6,\n",
    "    \"7_fossil_fuels_needed\": 7\n",
    "}\n",
    "\n",
    "# Convert string labels to integers\n",
    "train_label = list(map(lambda x: LABEL_MAPPING[x], train_y))\n",
    "test_label = list(map(lambda x: LABEL_MAPPING[x], test_y))"
   ]
  },
  {
   "cell_type": "code",
   "execution_count": null,
   "metadata": {
    "colab": {
     "base_uri": "https://localhost:8080/"
    },
    "executionInfo": {
     "elapsed": 310588,
     "status": "ok",
     "timestamp": 1738260886783,
     "user": {
      "displayName": "Eunice Ngai",
      "userId": "01703818582658263674"
     },
     "user_tz": -420
    },
    "id": "_ZHHwTIJt9gK",
    "outputId": "37576f13-e892-4b70-97a5-b14732dbd911"
   },
   "outputs": [
    {
     "name": "stderr",
     "output_type": "stream",
     "text": [
      "Some layers from the model checkpoint at google/electra-base-discriminator were not used when initializing TFElectraForSequenceClassification: ['discriminator_predictions']\n",
      "- This IS expected if you are initializing TFElectraForSequenceClassification from the checkpoint of a model trained on another task or with another architecture (e.g. initializing a BertForSequenceClassification model from a BertForPreTraining model).\n",
      "- This IS NOT expected if you are initializing TFElectraForSequenceClassification from the checkpoint of a model that you expect to be exactly identical (initializing a BertForSequenceClassification model from a BertForSequenceClassification model).\n",
      "Some layers of TFElectraForSequenceClassification were not initialized from the model checkpoint at google/electra-base-discriminator and are newly initialized: ['classifier']\n",
      "You should probably TRAIN this model on a down-stream task to be able to use it for predictions and inference.\n"
     ]
    },
    {
     "name": "stdout",
     "output_type": "stream",
     "text": [
      "Epoch 1/5\n",
      "288/288 [==============================] - ETA: 0s - loss: 1.5452 - accuracy: 0.4135\n",
      "Epoch 1: val_loss improved from inf to 1.14722, saving model to /content/drive/MyDrive/MIDS/frugal_ai/Eunice/checkpoints/checkpoint_epoch_1.weights.h5\n",
      "288/288 [==============================] - 99s 233ms/step - loss: 1.5452 - accuracy: 0.4135 - val_loss: 1.1472 - val_accuracy: 0.6092\n",
      "Epoch 2/5\n",
      "288/288 [==============================] - ETA: 0s - loss: 0.8931 - accuracy: 0.6986\n",
      "Epoch 2: val_loss improved from 1.14722 to 0.93828, saving model to /content/drive/MyDrive/MIDS/frugal_ai/Eunice/checkpoints/checkpoint_epoch_2.weights.h5\n",
      "288/288 [==============================] - 57s 198ms/step - loss: 0.8931 - accuracy: 0.6986 - val_loss: 0.9383 - val_accuracy: 0.6954\n",
      "Epoch 3/5\n",
      "288/288 [==============================] - ETA: 0s - loss: 0.5712 - accuracy: 0.8219\n",
      "Epoch 3: val_loss did not improve from 0.93828\n",
      "288/288 [==============================] - 46s 160ms/step - loss: 0.5712 - accuracy: 0.8219 - val_loss: 0.9487 - val_accuracy: 0.7191\n",
      "Epoch 4/5\n",
      "288/288 [==============================] - ETA: 0s - loss: 0.3757 - accuracy: 0.8837\n",
      "Epoch 4: val_loss did not improve from 0.93828\n",
      "288/288 [==============================] - 46s 159ms/step - loss: 0.3757 - accuracy: 0.8837 - val_loss: 1.0154 - val_accuracy: 0.7357\n",
      "Epoch 5/5\n",
      "288/288 [==============================] - ETA: 0s - loss: 0.2752 - accuracy: 0.9194\n",
      "Epoch 5: val_loss improved from 0.93828 to 0.87218, saving model to /content/drive/MyDrive/MIDS/frugal_ai/Eunice/checkpoints/checkpoint_epoch_5.weights.h5\n"
     ]
    }
   ],
   "source": [
    "# https://colab.research.google.com/drive/1VoWyzlXZVR5sNygejktJ4Uguw3HIZckb?usp=sharing\n",
    "\n",
    "# Load ELECTRA BASE model and tokenizer\n",
    "model_name = \"google/electra-base-discriminator\"\n",
    "tokenizer = ElectraTokenizer.from_pretrained(model_name)\n",
    "model = TFElectraForSequenceClassification.from_pretrained(model_name, num_labels=8)\n",
    "\n",
    "#   Freeze the first 4 layers\n",
    "for layer in model.electra.encoder.layer[:4]:\n",
    "    layer.trainable = False\n",
    "\n",
    "#   Train the last 8 layers\n",
    "for layer in model.electra.encoder.layer[-8:]:\n",
    "    layer.trainable = True\n",
    "\n",
    "\n",
    "# tokenize quotes\n",
    "encoded_quote = tokenizer(train_X,\n",
    "                          truncation=True,\n",
    "                          padding=\"max_length\",\n",
    "                          return_tensors=\"tf\")\n",
    "\n",
    "# Dictionary with input IDs and attention mask\n",
    "inputs = {\n",
    "    'input_ids': encoded_quote['input_ids'],\n",
    "    'attention_mask': encoded_quote['attention_mask']\n",
    "}\n",
    "\n",
    "# Include labels if training\n",
    "full_dataset = tf.data.Dataset.from_tensor_slices((inputs, tf.constant(train_label))).batch(10)\n",
    "\n",
    "# Create validation set\n",
    "# Split into training and validation datasets\n",
    "train_size = int(0.8 * len(full_dataset))\n",
    "train_dataset = full_dataset.take(train_size)\n",
    "val_dataset = full_dataset.skip(train_size)\n",
    "\n",
    "# Checkpoints\n",
    "# https://www.tensorflow.org/api_docs/python/tf/keras/callbacks/ModelCheckpoint\n",
    "checkpoint_callback = tf.keras.callbacks.ModelCheckpoint(\n",
    "    filepath=os.path.join(checkpoint_dir, 'checkpoint_epoch_{epoch}.weights.h5'),\n",
    "    save_weights_only=True,\n",
    "    save_best_only=True,\n",
    "    monitor='val_loss',\n",
    "    mode='min',\n",
    "    verbose=1\n",
    ")\n",
    "\n",
    "# default values\n",
    "optimizer = tf.keras.optimizers.Adam(learning_rate=5e-5,\n",
    "                                     epsilon=1e-7,\n",
    "                                     beta_1=0.9,\n",
    "                                     beta_2=0.999)\n",
    "\n",
    "# Compile\n",
    "model.compile(optimizer=optimizer,\n",
    "              loss=tf.keras.losses.SparseCategoricalCrossentropy(from_logits=True),\n",
    "              metrics=['accuracy'])\n",
    "\n",
    "\n",
    "# Finetune\n",
    "model.fit(train_dataset,\n",
    "          validation_data=val_dataset,\n",
    "          epochs=5,\n",
    "          callbacks=[checkpoint_callback])\n",
    "\n",
    "# Save the final model\n",
    "# model.save_pretrained(final_model_path)"
   ]
  },
  {
   "cell_type": "code",
   "execution_count": null,
   "metadata": {
    "colab": {
     "base_uri": "https://localhost:8080/"
    },
    "executionInfo": {
     "elapsed": 454,
     "status": "ok",
     "timestamp": 1738259340370,
     "user": {
      "displayName": "Eunice Ngai",
      "userId": "01703818582658263674"
     },
     "user_tz": -420
    },
    "id": "uksRj-wbU5nd",
    "outputId": "ee05fb61-cc60-42bc-a492-748c2de253c7"
   },
   "outputs": [
    {
     "name": "stdout",
     "output_type": "stream",
     "text": [
      "{'input_ids': <tf.Tensor: shape=(10, 512), dtype=int32, numpy=\n",
      "array([[ 101, 1996, 3256, ...,    0,    0,    0],\n",
      "       [ 101, 2009, 1521, ...,    0,    0,    0],\n",
      "       [ 101, 2017, 2298, ...,    0,    0,    0],\n",
      "       ...,\n",
      "       [ 101, 1045, 9375, ...,    0,    0,    0],\n",
      "       [ 101, 2065, 1045, ...,    0,    0,    0],\n",
      "       [ 101, 4661, 2108, ...,    0,    0,    0]], dtype=int32)>, 'attention_mask': <tf.Tensor: shape=(10, 512), dtype=int32, numpy=\n",
      "array([[1, 1, 1, ..., 0, 0, 0],\n",
      "       [1, 1, 1, ..., 0, 0, 0],\n",
      "       [1, 1, 1, ..., 0, 0, 0],\n",
      "       ...,\n",
      "       [1, 1, 1, ..., 0, 0, 0],\n",
      "       [1, 1, 1, ..., 0, 0, 0],\n",
      "       [1, 1, 1, ..., 0, 0, 0]], dtype=int32)>}\n",
      "tf.Tensor([1 3 5 1 5 3 5 7 3 4], shape=(10,), dtype=int32)\n"
     ]
    }
   ],
   "source": [
    "for batch in val_dataset.take(1):\n",
    "    inputs, labels = batch\n",
    "    print(inputs)\n",
    "    print(labels)"
   ]
  },
  {
   "cell_type": "code",
   "execution_count": null,
   "metadata": {
    "colab": {
     "base_uri": "https://localhost:8080/"
    },
    "executionInfo": {
     "elapsed": 2258,
     "status": "ok",
     "timestamp": 1738257374087,
     "user": {
      "displayName": "Eunice Ngai",
      "userId": "01703818582658263674"
     },
     "user_tz": -420
    },
    "id": "XlfwheD17qiW",
    "outputId": "48c97008-4f97-4d68-dba7-eaa80e942d45"
   },
   "outputs": [
    {
     "name": "stdout",
     "output_type": "stream",
     "text": [
      "tf.Tensor(\n",
      "[[ 0.0525555   0.09919629  0.02518908 -0.11869954  0.02907911  0.03049592]\n",
      " [ 0.05557149  0.13033827 -0.00836853 -0.14531834  0.00956786 -0.01710766]\n",
      " [ 0.07675572  0.14144127 -0.03362048 -0.13893542  0.00109686  0.00265281]\n",
      " [ 0.04502888  0.09992999 -0.01757868 -0.18466137 -0.000925    0.02071026]\n",
      " [ 0.02821992  0.11746463 -0.02688191 -0.1840851   0.00602973  0.04273786]\n",
      " [ 0.05080915  0.11841306  0.00690543 -0.149228    0.00023179 -0.01302947]\n",
      " [ 0.02290859  0.12967727  0.00611281 -0.14893326  0.04576885  0.0094345 ]\n",
      " [ 0.11317664  0.106491   -0.0306619  -0.17542063 -0.03916263  0.04533345]\n",
      " [ 0.03660445  0.08609073 -0.00394647 -0.14347748 -0.00285449 -0.00064472]\n",
      " [ 0.06583001  0.10900719 -0.01281781 -0.15195253  0.01294244  0.00633538]], shape=(10, 6), dtype=float32)\n"
     ]
    }
   ],
   "source": [
    "for batch in train_dataset.take(1):\n",
    "    inputs, labels = batch\n",
    "    # try **inputs to expand the dictionary\n",
    "    outputs = model(**inputs)\n",
    "    print(outputs.logits)\n"
   ]
  },
  {
   "cell_type": "markdown",
   "metadata": {
    "id": "2TmK5XVpkruP"
   },
   "source": [
    "# Results"
   ]
  },
  {
   "cell_type": "markdown",
   "metadata": {
    "id": "Cmx7B1Z9Z7UQ"
   },
   "source": [
    "## Experiment 1\n",
    "- ELECTRA BASE fine tuned on Frugal AI Dataset  \n",
    "- Freeze first 6 layers, fine-tune on last 6 layers\n",
    "- Ran in Google Colab Pro+ on A100 GPU\n",
    "- Final model weights saved"
   ]
  },
  {
   "cell_type": "markdown",
   "metadata": {
    "id": "ymvtEnPrLJYT"
   },
   "source": [
    "loss: 2.0515 - accuracy: 0.2476 - val_loss: 2.0354 - val_accuracy: 0.3241\n",
    "\n",
    "```\n",
    "optimizer = tf.keras.optimizers.Adam(learning_rate=1e-6,\n",
    "                                     epsilon=1e-7,\n",
    "                                     beta_1=0.9,\n",
    "                                     beta_2=0.999)\n",
    "\n",
    "# Compile\n",
    "model.compile(optimizer=optimizer,\n",
    "              loss=tf.keras.losses.SparseCategoricalCrossentropy(from_logits=True),\n",
    "              metrics=['accuracy'])\n",
    "\n",
    "\n",
    "# Finetune\n",
    "model.fit(train_dataset,\n",
    "          validation_data=val_dataset,\n",
    "          epochs=3,\n",
    "          callbacks=[checkpoint_callback])\n",
    "```\n",
    "\n",
    "\n"
   ]
  },
  {
   "cell_type": "markdown",
   "metadata": {
    "id": "5DjvkGa3ZTgF"
   },
   "source": [
    "loss: 0.3787 - accuracy: 0.8868 - val_loss: 0.9384 - val_accuracy: 0.7524\n",
    "\n",
    "```\n",
    "# default values\n",
    "optimizer = tf.keras.optimizers.Adam(learning_rate=5e-5,\n",
    "                                     epsilon=1e-7,\n",
    "                                     beta_1=0.9,\n",
    "                                     beta_2=0.999)\n",
    "\n",
    "# Compile\n",
    "model.compile(optimizer=optimizer,\n",
    "              loss=tf.keras.losses.SparseCategoricalCrossentropy(from_logits=True),\n",
    "              metrics=['accuracy'])\n",
    "\n",
    "\n",
    "# Finetune\n",
    "model.fit(train_dataset,\n",
    "          validation_data=val_dataset,\n",
    "          epochs=5,\n",
    "          callbacks=[checkpoint_callback])\n",
    "```\n",
    "\n"
   ]
  },
  {
   "cell_type": "code",
   "execution_count": null,
   "metadata": {
    "colab": {
     "base_uri": "https://localhost:8080/"
    },
    "executionInfo": {
     "elapsed": 1621,
     "status": "ok",
     "timestamp": 1738259955018,
     "user": {
      "displayName": "Eunice Ngai",
      "userId": "01703818582658263674"
     },
     "user_tz": -420
    },
    "id": "6KV_TcI_XQPP",
    "outputId": "7b912923-6b13-488d-fed7-9c167254244d"
   },
   "outputs": [
    {
     "name": "stdout",
     "output_type": "stream",
     "text": [
      "Model: \"tf_electra_for_sequence_classification_3\"\n",
      "_________________________________________________________________\n",
      " Layer (type)                Output Shape              Param #   \n",
      "=================================================================\n",
      " electra (TFElectraMainLaye  multiple                  108891648 \n",
      " r)                                                              \n",
      "                                                                 \n",
      " classifier (TFElectraClass  multiple                  596744    \n",
      " ificationHead)                                                  \n",
      "                                                                 \n",
      "=================================================================\n",
      "Total params: 109488392 (417.67 MB)\n",
      "Trainable params: 66961160 (255.44 MB)\n",
      "Non-trainable params: 42527232 (162.23 MB)\n",
      "_________________________________________________________________\n"
     ]
    }
   ],
   "source": [
    "# Model: \"tf_electra_for_sequence_classification\"\n",
    "# _________________________________________________________________\n",
    "#  Layer (type)                Output Shape              Param #\n",
    "# =================================================================\n",
    "#  electra (TFElectraMainLaye  multiple                  108891648\n",
    "#  r)\n",
    "\n",
    "#  classifier (TFElectraClass  multiple                  592130\n",
    "#  ificationHead)\n",
    "\n",
    "# =================================================================\n",
    "# Total params: 109483778 (417.65 MB)\n",
    "# Trainable params: 66956546 (255.42 MB)\n",
    "# Non-trainable params: 42527232 (162.23 MB)\n",
    "# _________________________________________________________________"
   ]
  },
  {
   "cell_type": "markdown",
   "metadata": {
    "id": "iSRxh0lEbjdJ"
   },
   "source": []
  },
  {
   "cell_type": "markdown",
   "metadata": {
    "id": "uePEmiS7bjCb"
   },
   "source": [
    "## Experiment 2\n",
    "\n",
    "### Final Saved Model\n",
    "Train last 8 layers, freeze first 4 layers."
   ]
  },
  {
   "cell_type": "markdown",
   "metadata": {
    "id": "WQwh1mJWbgMw"
   },
   "source": [
    "Epoch 5/5\n",
    "288/288 [==============================] - ETA: 0s - loss: 0.2752 - accuracy: 0.9194\n",
    "Epoch 5: val_loss improved from 0.93828 to 0.87218, saving model to /content/drive/MyDrive/MIDS/frugal_ai/Eunice/checkpoints/checkpoint_epoch_5.weights.h5\n",
    "\n",
    "```\n",
    "\n",
    "# default values\n",
    "optimizer = tf.keras.optimizers.Adam(learning_rate=5e-5,\n",
    "                                     epsilon=1e-7,\n",
    "                                     beta_1=0.9,\n",
    "                                     beta_2=0.999)\n",
    "\n",
    "# Compile\n",
    "model.compile(optimizer=optimizer,\n",
    "              loss=tf.keras.losses.SparseCategoricalCrossentropy(from_logits=True),\n",
    "              metrics=['accuracy'])\n",
    "\n",
    "\n",
    "# Finetune\n",
    "model.fit(train_dataset,\n",
    "          validation_data=val_dataset,\n",
    "          epochs=5,\n",
    "          callbacks=[checkpoint_callback])\n",
    "```"
   ]
  },
  {
   "cell_type": "code",
   "execution_count": null,
   "metadata": {
    "colab": {
     "base_uri": "https://localhost:8080/"
    },
    "executionInfo": {
     "elapsed": 16,
     "status": "ok",
     "timestamp": 1738261097311,
     "user": {
      "displayName": "Eunice Ngai",
      "userId": "01703818582658263674"
     },
     "user_tz": -420
    },
    "id": "DkoixL9mbz-u",
    "outputId": "a6fd2d81-79eb-4ac6-dab2-5e0d052204b0"
   },
   "outputs": [
    {
     "name": "stdout",
     "output_type": "stream",
     "text": [
      "Model: \"tf_electra_for_sequence_classification_5\"\n",
      "_________________________________________________________________\n",
      " Layer (type)                Output Shape              Param #   \n",
      "=================================================================\n",
      " electra (TFElectraMainLaye  multiple                  108891648 \n",
      " r)                                                              \n",
      "                                                                 \n",
      " classifier (TFElectraClass  multiple                  596744    \n",
      " ificationHead)                                                  \n",
      "                                                                 \n",
      "=================================================================\n",
      "Total params: 109488392 (417.67 MB)\n",
      "Trainable params: 81136904 (309.51 MB)\n",
      "Non-trainable params: 28351488 (108.15 MB)\n",
      "_________________________________________________________________\n"
     ]
    }
   ],
   "source": [
    "model.summary()\n",
    "\n",
    "# Model: \"tf_electra_for_sequence_classification_5\"\n",
    "# _________________________________________________________________\n",
    "#  Layer (type)                Output Shape              Param #\n",
    "# =================================================================\n",
    "#  electra (TFElectraMainLaye  multiple                  108891648\n",
    "#  r)\n",
    "\n",
    "#  classifier (TFElectraClass  multiple                  596744\n",
    "#  ificationHead)\n",
    "\n",
    "# =================================================================\n",
    "# Total params: 109488392 (417.67 MB)\n",
    "# Trainable params: 81136904 (309.51 MB)\n",
    "# Non-trainable params: 28351488 (108.15 MB)\n",
    "# _________________________________________________________________"
   ]
  },
  {
   "cell_type": "markdown",
   "metadata": {
    "id": "zd_8BDhv6Zqi"
   },
   "source": [
    "##Evaluation"
   ]
  },
  {
   "cell_type": "code",
   "execution_count": null,
   "metadata": {
    "colab": {
     "base_uri": "https://localhost:8080/"
    },
    "executionInfo": {
     "elapsed": 25288,
     "status": "ok",
     "timestamp": 1738301012406,
     "user": {
      "displayName": "Eunice Ngai",
      "userId": "01703818582658263674"
     },
     "user_tz": -480
    },
    "id": "0fRjAVtcrCLX",
    "outputId": "cb71f20e-cdd8-4336-d00e-79718ec90765"
   },
   "outputs": [
    {
     "name": "stderr",
     "output_type": "stream",
     "text": [
      "All model checkpoint layers were used when initializing TFElectraForSequenceClassification.\n",
      "\n",
      "All the layers of TFElectraForSequenceClassification were initialized from the model checkpoint at /content/drive/MyDrive/MIDS/frugal_ai/Eunice/electra-base-ft7to12-final.\n",
      "If your task is similar to the task the model of the checkpoint was trained on, you can already use TFElectraForSequenceClassification for predictions without further training.\n"
     ]
    },
    {
     "name": "stdout",
     "output_type": "stream",
     "text": [
      "95/95 [==============================] - 14s 58ms/step\n",
      "TFSequenceClassifierOutput(loss=None, logits=array([[-0.97335136,  0.19210993,  0.8951237 , ...,  5.217942  ,\n",
      "         0.4518316 , -3.6469686 ],\n",
      "       [ 0.4627358 , -2.0689015 , -1.8794866 , ..., -1.5496056 ,\n",
      "        -1.1216714 ,  0.8779483 ],\n",
      "       [-0.01018563, -1.6446098 , -0.39611784, ...,  2.1064863 ,\n",
      "        -1.4330555 , -2.3599741 ],\n",
      "       ...,\n",
      "       [-0.8540842 , -1.7609339 , -1.2608944 , ..., -2.4801772 ,\n",
      "        -0.3532726 ,  5.519019  ],\n",
      "       [-0.4434059 ,  6.4427257 ,  0.5300827 , ..., -1.1158396 ,\n",
      "        -2.0552487 , -2.9085915 ],\n",
      "       [-0.44444105,  6.455983  ,  0.55606616, ..., -0.75770533,\n",
      "        -1.7164105 , -2.8812244 ]], dtype=float32), hidden_states=None, attentions=None)\n"
     ]
    }
   ],
   "source": [
    "# https://colab.research.google.com/drive/1VoWyzlXZVR5sNygejktJ4Uguw3HIZckb?usp=sharing\n",
    "\n",
    "# Load saved ELECTRA fine-tuned model\n",
    "model_name = \"google/electra-base-discriminator\"\n",
    "tokenizer = ElectraTokenizer.from_pretrained(model_name)\n",
    "# Load model path\n",
    "load_model_path = '/content/drive/MyDrive/MIDS/frugal_ai/Eunice/electra-base-ft5to12-final'\n",
    "\n",
    "# Load model config and weights\n",
    "model = TFElectraForSequenceClassification.from_pretrained(load_model_path)\n",
    "\n",
    "\n",
    "# tokenize quotes\n",
    "encoded_quote = tokenizer(test_X,\n",
    "                          truncation=True,\n",
    "                          padding=\"max_length\",\n",
    "                          return_tensors=\"tf\")\n",
    "\n",
    "# Dictionary with input IDs and attention mask\n",
    "inputs = {\n",
    "    'input_ids': encoded_quote['input_ids'],\n",
    "    'attention_mask': encoded_quote['attention_mask']\n",
    "}\n",
    "\n",
    "# prepare dataset for inference\n",
    "input_data = tf.data.Dataset.from_tensor_slices(inputs).batch(10)\n",
    "\n",
    "# inference\n",
    "predictions = model.predict(input_data)\n",
    "pred_labels = np.argmax(predictions.logits, axis=1)\n",
    "print(pred_labels.shape)"
   ]
  },
  {
   "cell_type": "code",
   "execution_count": null,
   "metadata": {
    "id": "2rdWvQ910grY"
   },
   "outputs": [],
   "source": [
    "# np.save('/content/drive/MyDrive/MIDS/frugal_ai/Eunice/pred_labels.npy', pred_labels)\n",
    "# np.save('/content/drive/MyDrive/MIDS/frugal_ai/Eunice/true_labels.npy', test_label)\n",
    "\n",
    "pred_labels = np.load('/content/drive/MyDrive/MIDS/frugal_ai/Eunice/pred_labels.npy')\n",
    "test_labels = np.load('/content/drive/MyDrive/MIDS/frugal_ai/Eunice/true_labels.npy')"
   ]
  },
  {
   "cell_type": "code",
   "execution_count": null,
   "metadata": {
    "id": "CZrJmQcr3KDt"
   },
   "outputs": [],
   "source": [
    "# Define the label mapping\n",
    "LABEL_MAPPING = {\n",
    "    \"0_not_relevant\": 0,\n",
    "    \"1_not_happening\": 1,\n",
    "    \"2_not_human\": 2,\n",
    "    \"3_not_bad\": 3,\n",
    "    \"4_solutions_harmful_unnecessary\": 4,\n",
    "    \"5_science_unreliable\": 5,\n",
    "    \"6_proponents_biased\": 6,\n",
    "    \"7_fossil_fuels_needed\": 7\n",
    "}\n",
    "\n",
    "REV_MAPPING = {value: key for key, value in LABEL_MAPPING.items()}\n",
    "\n",
    "# Convert integers to string labels\n",
    "map_label = lambda x: REV_MAPPING[x]\n",
    "\n",
    "labels = np.array(list(map(map_label, test_label)))\n",
    "pred_labels = np.array([map_label(x) for x in pred_labels])\n",
    "\n",
    "print(np.unique(labels))\n",
    "print(np.unique(pred_labels))"
   ]
  },
  {
   "cell_type": "code",
   "execution_count": null,
   "metadata": {
    "colab": {
     "base_uri": "https://localhost:8080/",
     "height": 686
    },
    "executionInfo": {
     "elapsed": 1600,
     "status": "ok",
     "timestamp": 1738303816031,
     "user": {
      "displayName": "Eunice Ngai",
      "userId": "01703818582658263674"
     },
     "user_tz": -480
    },
    "id": "Ajvggo7E66dQ",
    "outputId": "860531ae-0b21-4639-f33c-65a56e2fce5c"
   },
   "outputs": [
    {
     "data": {
      "text/plain": [
       "Text(50.5815972222222, 0.5, 'True')"
      ]
     },
     "execution_count": 56,
     "metadata": {},
     "output_type": "execute_result"
    },
    {
     "data": {
      "image/png": "[encoded data removed]",
      "text/plain": [
       "<Figure size 640x480 with 2 Axes>"
      ]
     },
     "metadata": {},
     "output_type": "display_data"
    }
   ],
   "source": [
    "names=np.unique(labels)\n",
    "cm = confusion_matrix(labels, pred_labels, labels=names)\n",
    "sns.heatmap(\n",
    "    cm,\n",
    "    annot=True,\n",
    "    fmt='g',\n",
    "    xticklabels=names,\n",
    "    yticklabels=names)\n",
    "plt.xlabel(\"Predicted\")\n",
    "plt.ylabel(\"True\")"
   ]
  },
  {
   "cell_type": "code",
   "execution_count": null,
   "metadata": {
    "colab": {
     "base_uri": "https://localhost:8080/"
    },
    "executionInfo": {
     "elapsed": 603,
     "status": "ok",
     "timestamp": 1738303829058,
     "user": {
      "displayName": "Eunice Ngai",
      "userId": "01703818582658263674"
     },
     "user_tz": -480
    },
    "id": "WAWPBwFg6Yly",
    "outputId": "887a20e2-7213-4550-db82-19886552c595"
   },
   "outputs": [
    {
     "name": "stdout",
     "output_type": "stream",
     "text": [
      "                                 precision    recall  f1-score   support\n",
      "\n",
      "                 0_not_relevant     0.7093    0.5259    0.6040       116\n",
      "                1_not_happening     0.6783    0.8291    0.7462       117\n",
      "                    2_not_human     0.6977    0.7200    0.7087       125\n",
      "                      3_not_bad     0.8450    0.7676    0.8044       142\n",
      "4_solutions_harmful_unnecessary     0.8824    0.5882    0.7059       102\n",
      "           5_science_unreliable     0.6466    0.7679    0.7020       112\n",
      "            6_proponents_biased     0.7222    0.7459    0.7339       122\n",
      "          7_fossil_fuels_needed     0.7557    0.9083    0.8250       109\n",
      "\n",
      "                       accuracy                         0.7333       945\n",
      "                      macro avg     0.7421    0.7316    0.7287       945\n",
      "                   weighted avg     0.7426    0.7333    0.7304       945\n",
      "\n"
     ]
    }
   ],
   "source": [
    "print(classification_report(labels, pred_labels, target_names=names, digits=4))"
   ]
  }
 ],
 "metadata": {
  "accelerator": "GPU",
  "colab": {
   "gpuType": "A100",
   "machine_shape": "hm",
   "provenance": [
    {
     "file_id": "1WCO9UK0Wk-K-tVBIji29ZyZcXj5ao6KR",
     "timestamp": 1738161151932
    }
   ]
  },
  "kernelspec": {
   "display_name": "Python 3",
   "name": "python3"
  },
  "language_info": {
   "name": "python"
  }
 },
 "nbformat": 4,
 "nbformat_minor": 0
}
